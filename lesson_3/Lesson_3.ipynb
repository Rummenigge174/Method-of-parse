{
 "cells": [
  {
   "cell_type": "code",
   "execution_count": 1,
   "metadata": {},
   "outputs": [],
   "source": [
    "from pymongo import MongoClient\n",
    "import pymongo\n",
    "from pprint import pprint\n",
    "import json\n",
    "from pymongo.errors import DuplicateKeyError, BulkWriteError"
   ]
  },
  {
   "cell_type": "code",
   "execution_count": 2,
   "metadata": {},
   "outputs": [
    {
     "name": "stdout",
     "output_type": "stream",
     "text": [
      "Введите сумму: 250000\n",
      "В базу записано 0 уникальных документов\n",
      "Выявлено 289 дубликтов документов\n",
      "{'Название вакансии': 'Data scientist', 'Сайт': 'hh.ru', 'Компания': ' WakeApp', 'Город': 'Москва', 'Минимально': 200000, 'Максимально': 300000, 'Валюта': ' руб.'}\n",
      "{'Название вакансии': 'Data scientist', 'Сайт': 'hh.ru', 'Компания': ' WakeApp', 'Город': 'Санкт-Петербург', 'Минимально': 200000, 'Максимально': 300000, 'Валюта': ' руб.'}\n",
      "{'Название вакансии': 'Senior Tech-Lead, Node.js Developer, Startup', 'Сайт': 'hh.ru', 'Компания': ' Proverest', 'Город': 'Санкт-Петербург, Площадь Александра Невского 1', 'Минимально': 275000, 'Максимально': None, 'Валюта': ' руб.'}\n",
      "{'Название вакансии': 'Senior Data Engineer / Ведущий инженер данных', 'Сайт': 'hh.ru', 'Компания': 'ООО UMA.Tech', 'Город': 'Москва, Маяковская', 'Минимально': None, 'Максимально': 290000, 'Валюта': ' руб.'}\n",
      "{'Название вакансии': 'Директор по инвестициям (Family office)', 'Сайт': 'hh.ru', 'Компания': None, 'Город': 'Москва', 'Минимально': 500000, 'Максимально': 1000000, 'Валюта': ' руб.'}\n",
      "{'Название вакансии': 'Senior Python Systems Engineer', 'Сайт': 'hh.ru', 'Компания': ' PeakData', 'Город': 'Москва', 'Минимально': 200000, 'Максимально': 280000, 'Валюта': ' руб.'}\n",
      "Найдено 6 вакансий\n"
     ]
    }
   ],
   "source": [
    "income = int(input('Введите сумму: '))\n",
    "\n",
    "with open('vacancy_hh1.json', encoding='utf-8') as f:\n",
    "    vacancy_get = json.load(f)\n",
    "\n",
    "client = MongoClient('localhost', 27017)\n",
    "db = client['vacancy_db']\n",
    "hh = db.hh\n",
    "\n",
    "\n",
    "def write_to_base(vacancy_list):\n",
    "    j = 0\n",
    "    k = 0\n",
    "    #hh.create_index([('vacancy_id', pymongo.ASCENDING)], unique=True) # Можно подготовить индекс заранее, а можно создать уже на готовых данных\n",
    "    for i in range(0, len(vacancy_list)):\n",
    "        try:\n",
    "            hh.insert_one(vacancy_list[i])\n",
    "            j += 1\n",
    "        except (DuplicateKeyError):\n",
    "            k += 1\n",
    "    print(f'В базу записано {j} уникальных документов')\n",
    "    print(f'Выявлено {k} дубликтов документов')\n",
    "\n",
    "\n",
    "def sort_by_income(income_int):\n",
    "    m = 0\n",
    "    for i in hh.find({'$or': [{'Минимально': {'$gt': income_int}}, {'Максимально': {'$gt': income_int}}]}, {'_id': 0, 'Ссылка на вакансию': 0}):\n",
    "        print(i)\n",
    "        m += 1\n",
    "    print(f'Найдено {m} вакансий')\n",
    "\n",
    "\n",
    "write_to_base(vacancy_get)\n",
    "sort_by_income(income)\n",
    "\n"
   ]
  },
  {
   "cell_type": "code",
   "execution_count": null,
   "metadata": {},
   "outputs": [],
   "source": []
  }
 ],
 "metadata": {
  "kernelspec": {
   "display_name": "Python 3",
   "language": "python",
   "name": "python3"
  },
  "language_info": {
   "codemirror_mode": {
    "name": "ipython",
    "version": 3
   },
   "file_extension": ".py",
   "mimetype": "text/x-python",
   "name": "python",
   "nbconvert_exporter": "python",
   "pygments_lexer": "ipython3",
   "version": "3.7.6"
  }
 },
 "nbformat": 4,
 "nbformat_minor": 4
}
