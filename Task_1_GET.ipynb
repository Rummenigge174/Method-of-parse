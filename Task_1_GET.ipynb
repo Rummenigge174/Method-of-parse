{
 "cells": [
  {
   "cell_type": "markdown",
   "metadata": {},
   "source": [
    "1. Посмотреть документацию к API GitHub, разобраться как вывести список репозиториев для конкретного пользователя, сохранить JSON-вывод в файле *.json."
   ]
  },
  {
   "cell_type": "code",
   "execution_count": null,
   "metadata": {},
   "outputs": [],
   "source": [
    "import requests\n",
    "import json"
   ]
  },
  {
   "cell_type": "code",
   "execution_count": 2,
   "metadata": {},
   "outputs": [],
   "source": [
    "def get_repos(username):\n",
    "    main_link = f'https://api.github.com/users/{username}/repos'\n",
    "    response = requests.get(main_link)\n",
    "    data = response.json()\n",
    "    my_list = []\n",
    "    my_list.append(username)\n",
    "    with open('data.json', 'w') as f:\n",
    "        json.dump(data, f)\n",
    "    for i in range(0, len(data)):\n",
    "            my_list.append(data[i]['name'])\n",
    "    return my_list"
   ]
  },
  {
   "cell_type": "code",
   "execution_count": 5,
   "metadata": {},
   "outputs": [
    {
     "name": "stdout",
     "output_type": "stream",
     "text": [
      "У пользователя Rummenigge174 есть публичные репозитории: ['hello', 'Hello-HW-', 'Math', 'Numpy_Pandas', 'python', 'python_course', 'python_course_1']\n"
     ]
    }
   ],
   "source": [
    "func = get_repos('Rummenigge174')\n",
    "print(f'У пользователя {func[0]} есть публичные репозитории: {func[1:]}')"
   ]
  },
  {
   "cell_type": "code",
   "execution_count": null,
   "metadata": {},
   "outputs": [],
   "source": []
  }
 ],
 "metadata": {
  "kernelspec": {
   "display_name": "Python 3",
   "language": "python",
   "name": "python3"
  },
  "language_info": {
   "codemirror_mode": {
    "name": "ipython",
    "version": 3
   },
   "file_extension": ".py",
   "mimetype": "text/x-python",
   "name": "python",
   "nbconvert_exporter": "python",
   "pygments_lexer": "ipython3",
   "version": "3.7.6"
  }
 },
 "nbformat": 4,
 "nbformat_minor": 4
}
