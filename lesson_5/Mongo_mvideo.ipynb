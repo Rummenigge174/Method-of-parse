{
 "cells": [
  {
   "cell_type": "code",
   "execution_count": 1,
   "metadata": {},
   "outputs": [
    {
     "name": "stdout",
     "output_type": "stream",
     "text": [
      "В базу записано 16 уникальных документов\n",
      "Выявлено 0 дубликтов документов\n"
     ]
    }
   ],
   "source": [
    "from pymongo import MongoClient\n",
    "import pymongo\n",
    "import pprint\n",
    "import json\n",
    "from pymongo.errors import DuplicateKeyError, BulkWriteError\n",
    "\n",
    "\n",
    "with open('HITS_of_Sale.json', encoding='utf-8') as f:\n",
    "    hits_list = json.load(f)\n",
    "\n",
    "\n",
    "client = MongoClient('localhost', 27017)\n",
    "db = client['shopping_db']\n",
    "hits_mvideo = db.hits_mvideo\n",
    "\n",
    "def write_to_base(list, collections):\n",
    "    j = 0\n",
    "    k = 0\n",
    "    #hh.create_index([('vacancy_id', pymongo.ASCENDING)], unique=True)\n",
    "    for i in range(len(list)):\n",
    "        try:\n",
    "            collections.insert_one(list[i])\n",
    "            j += 1\n",
    "        except (DuplicateKeyError):\n",
    "            k += 1\n",
    "    print(f'В базу записано {j} уникальных документов')\n",
    "    print(f'Выявлено {k} дубликтов документов')\n",
    "\n",
    "\n",
    "write_to_base(hits_list, hits_mvideo)\n",
    "\n",
    "\n",
    "\n"
   ]
  },
  {
   "cell_type": "code",
   "execution_count": null,
   "metadata": {},
   "outputs": [],
   "source": []
  }
 ],
 "metadata": {
  "kernelspec": {
   "display_name": "Python 3",
   "language": "python",
   "name": "python3"
  },
  "language_info": {
   "codemirror_mode": {
    "name": "ipython",
    "version": 3
   },
   "file_extension": ".py",
   "mimetype": "text/x-python",
   "name": "python",
   "nbconvert_exporter": "python",
   "pygments_lexer": "ipython3",
   "version": "3.7.6"
  }
 },
 "nbformat": 4,
 "nbformat_minor": 4
}
